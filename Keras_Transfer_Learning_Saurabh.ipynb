{
 "cells": [
  {
   "cell_type": "code",
   "execution_count": 1,
   "metadata": {},
   "outputs": [
    {
     "name": "stderr",
     "output_type": "stream",
     "text": [
      "/home/saurabh/anaconda3/lib/python3.6/site-packages/h5py/__init__.py:36: FutureWarning: Conversion of the second argument of issubdtype from `float` to `np.floating` is deprecated. In future, it will be treated as `np.float64 == np.dtype(float).type`.\n",
      "  from ._conv import register_converters as _register_converters\n",
      "Using TensorFlow backend.\n"
     ]
    }
   ],
   "source": [
    "#Import libraries\n",
    "\n",
    "import numpy as np\n",
    "from keras.preprocessing.image import ImageDataGenerator\n",
    "from keras.models import Sequential\n",
    "from keras.layers import Dropout, Flatten, Dense\n",
    "from keras import applications\n"
   ]
  },
  {
   "cell_type": "code",
   "execution_count": 4,
   "metadata": {},
   "outputs": [],
   "source": [
    "#Image dimensions \n",
    "\n",
    "img_width, img_height = 150, 150\n",
    "\n",
    "top_model_weights_path = 'bottleneck_fc_model.h5'\n",
    "train_data_dir = 'Downloads/Data/train'\n",
    "validation_data_dir = 'Downloads/Data/validation' \n",
    "nb_train_samples = 2000 \n",
    "nb_validation_samples = 800\n",
    "epochs = 20\n",
    "batch_size = 16"
   ]
  },
  {
   "cell_type": "code",
   "execution_count": 8,
   "metadata": {},
   "outputs": [
    {
     "name": "stdout",
     "output_type": "stream",
     "text": [
      "Found 2000 images belonging to 2 classes.\n",
      "Found 800 images belonging to 2 classes.\n",
      "Train on 2000 samples, validate on 800 samples\n",
      "Epoch 1/20\n",
      "2000/2000 [==============================] - 3s 2ms/step - loss: 0.7320 - acc: 0.7435 - val_loss: 0.3738 - val_acc: 0.8200\n",
      "Epoch 2/20\n",
      "2000/2000 [==============================] - 3s 2ms/step - loss: 0.3467 - acc: 0.8595 - val_loss: 0.2580 - val_acc: 0.8962\n",
      "Epoch 3/20\n",
      "2000/2000 [==============================] - 3s 2ms/step - loss: 0.3130 - acc: 0.8800 - val_loss: 0.3111 - val_acc: 0.8625\n",
      "Epoch 4/20\n",
      "2000/2000 [==============================] - 3s 1ms/step - loss: 0.2597 - acc: 0.8995 - val_loss: 0.6237 - val_acc: 0.7812\n",
      "Epoch 5/20\n",
      "2000/2000 [==============================] - 3s 1ms/step - loss: 0.2433 - acc: 0.9115 - val_loss: 0.2647 - val_acc: 0.9062\n",
      "Epoch 6/20\n",
      "2000/2000 [==============================] - 4s 2ms/step - loss: 0.2016 - acc: 0.9220 - val_loss: 0.3609 - val_acc: 0.8888\n",
      "Epoch 7/20\n",
      "2000/2000 [==============================] - 4s 2ms/step - loss: 0.1747 - acc: 0.9365 - val_loss: 0.3374 - val_acc: 0.8962\n",
      "Epoch 8/20\n",
      "2000/2000 [==============================] - 4s 2ms/step - loss: 0.1414 - acc: 0.9465 - val_loss: 0.4987 - val_acc: 0.8588\n",
      "Epoch 9/20\n",
      "2000/2000 [==============================] - 3s 2ms/step - loss: 0.1508 - acc: 0.9480 - val_loss: 0.3409 - val_acc: 0.9000\n",
      "Epoch 10/20\n",
      "2000/2000 [==============================] - 3s 1ms/step - loss: 0.1476 - acc: 0.9480 - val_loss: 0.4821 - val_acc: 0.8625\n",
      "Epoch 11/20\n",
      "2000/2000 [==============================] - 3s 1ms/step - loss: 0.1140 - acc: 0.9550 - val_loss: 0.4165 - val_acc: 0.9000\n",
      "Epoch 12/20\n",
      "2000/2000 [==============================] - 3s 2ms/step - loss: 0.0974 - acc: 0.9625 - val_loss: 0.4048 - val_acc: 0.8975\n",
      "Epoch 13/20\n",
      "2000/2000 [==============================] - 3s 1ms/step - loss: 0.0709 - acc: 0.9735 - val_loss: 0.3979 - val_acc: 0.9038\n",
      "Epoch 14/20\n",
      "2000/2000 [==============================] - 3s 1ms/step - loss: 0.0649 - acc: 0.9715 - val_loss: 0.4705 - val_acc: 0.9012\n",
      "Epoch 15/20\n",
      "2000/2000 [==============================] - 3s 1ms/step - loss: 0.0801 - acc: 0.9760 - val_loss: 0.5093 - val_acc: 0.9012\n",
      "Epoch 16/20\n",
      "2000/2000 [==============================] - 3s 2ms/step - loss: 0.0644 - acc: 0.9775 - val_loss: 0.6968 - val_acc: 0.8738\n",
      "Epoch 17/20\n",
      "2000/2000 [==============================] - 3s 2ms/step - loss: 0.0497 - acc: 0.9820 - val_loss: 0.5671 - val_acc: 0.8988\n",
      "Epoch 18/20\n",
      "2000/2000 [==============================] - 3s 1ms/step - loss: 0.0679 - acc: 0.9740 - val_loss: 0.6055 - val_acc: 0.8975\n",
      "Epoch 19/20\n",
      "2000/2000 [==============================] - 3s 1ms/step - loss: 0.0563 - acc: 0.9805 - val_loss: 0.5586 - val_acc: 0.8875\n",
      "Epoch 20/20\n",
      "2000/2000 [==============================] - 3s 1ms/step - loss: 0.0296 - acc: 0.9890 - val_loss: 0.6153 - val_acc: 0.8975\n"
     ]
    }
   ],
   "source": [
    "def save_bottlebeck_features():\n",
    "    datagen = ImageDataGenerator(rescale=1. / 255)\n",
    "\n",
    "    # Build the VGG16 network\n",
    "    model = applications.VGG16(include_top=False, weights='imagenet')\n",
    "\n",
    "    generator = datagen.flow_from_directory(\n",
    "        train_data_dir,\n",
    "        target_size=(img_width, img_height),\n",
    "        batch_size=batch_size,\n",
    "        class_mode=None,  # Only yield batches of data, not labels\n",
    "        shuffle=False)    # Keep the order of the data same \n",
    "    bottleneck_features_train = model.predict_generator(\n",
    "        generator, nb_train_samples // batch_size)\n",
    "    np.save(open('bottleneck_features_train.npy', 'wb'),  # Save the output as numpy array \n",
    "            bottleneck_features_train)\n",
    "\n",
    "    generator = datagen.flow_from_directory(\n",
    "        validation_data_dir,\n",
    "        target_size=(img_width, img_height),\n",
    "        batch_size=batch_size,\n",
    "        class_mode=None,\n",
    "        shuffle=False)\n",
    "    bottleneck_features_validation = model.predict_generator(\n",
    "        generator, nb_validation_samples // batch_size)\n",
    "    np.save(open('bottleneck_features_validation.npy', 'wb'),\n",
    "            bottleneck_features_validation)\n",
    "\n",
    "\n",
    "def train_top_model():\n",
    "    train_data = np.load(open('bottleneck_features_train.npy', 'rb'))\n",
    "    #Retrieving the labels on trainset\n",
    "    train_labels = np.array(\n",
    "        [0] * (nb_train_samples // 2) + [1] * (nb_train_samples // 2))\n",
    "\n",
    "    validation_data = np.load(open('bottleneck_features_validation.npy', 'rb')) \n",
    "    #Retreving the labels on validation set \n",
    "    validation_labels = np.array(\n",
    "        [0] * (nb_validation_samples // 2) + [1] * (nb_validation_samples // 2))\n",
    "\n",
    "    model = Sequential()\n",
    "    model.add(Flatten(input_shape=train_data.shape[1:]))\n",
    "    model.add(Dense(256, activation='relu'))\n",
    "    model.add(Dropout(0.5))\n",
    "    model.add(Dense(1, activation='sigmoid'))\n",
    "\n",
    "    model.compile(optimizer='rmsprop',\n",
    "                  loss='binary_crossentropy', metrics=['accuracy'])\n",
    "\n",
    "    model.fit(train_data, train_labels,\n",
    "              epochs=epochs,\n",
    "              batch_size=batch_size,\n",
    "              validation_data=(validation_data, validation_labels))\n",
    "    model.save_weights(top_model_weights_path)\n",
    "\n",
    "\n",
    "save_bottlebeck_features()\n",
    "train_top_model() "
   ]
  },
  {
   "cell_type": "code",
   "execution_count": null,
   "metadata": {},
   "outputs": [],
   "source": []
  }
 ],
 "metadata": {
  "kernelspec": {
   "display_name": "Python 3",
   "language": "python",
   "name": "python3"
  },
  "language_info": {
   "codemirror_mode": {
    "name": "ipython",
    "version": 3
   },
   "file_extension": ".py",
   "mimetype": "text/x-python",
   "name": "python",
   "nbconvert_exporter": "python",
   "pygments_lexer": "ipython3",
   "version": "3.6.4"
  }
 },
 "nbformat": 4,
 "nbformat_minor": 2
}
