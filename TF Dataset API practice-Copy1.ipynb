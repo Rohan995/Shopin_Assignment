{
 "cells": [
  {
   "cell_type": "code",
   "execution_count": 2,
   "metadata": {},
   "outputs": [],
   "source": [
    "from __future__ import division\n",
    "import numpy as np\n",
    "import pandas as pd\n",
    "import tensorflow as tf\n",
    "from sklearn.model_selection import train_test_split\n",
    "import random\n",
    "import os\n",
    "os.chdir('/home/himanshu/cats_dogs/')\n",
    "\n",
    "random.seed(42)"
   ]
  },
  {
   "cell_type": "code",
   "execution_count": 3,
   "metadata": {
    "collapsed": true
   },
   "outputs": [],
   "source": [
    "## Obtaining image file names from local directory\n",
    "IMAGE_DIR_PATH = '/home/himanshu/cats_dogs/train'\n",
    "image_paths = [os.path.join(IMAGE_DIR_PATH, x) for x in os.listdir(IMAGE_DIR_PATH) if x.endswith('.jpg')]"
   ]
  },
  {
   "cell_type": "code",
   "execution_count": 4,
   "metadata": {},
   "outputs": [
    {
     "data": {
      "text/plain": [
       "25000"
      ]
     },
     "execution_count": 4,
     "metadata": {},
     "output_type": "execute_result"
    }
   ],
   "source": [
    "len(image_paths)"
   ]
  },
  {
   "cell_type": "code",
   "execution_count": 5,
   "metadata": {
    "collapsed": true
   },
   "outputs": [],
   "source": [
    "## Obtaining labels for the whole data set of 25000 images\n",
    "labels = []\n",
    "for x in os.listdir(IMAGE_DIR_PATH):\n",
    "    if x.startswith('cat'):\n",
    "        label = 0\n",
    "    elif x.startswith('dog'):\n",
    "        label = 1\n",
    "        \n",
    "    labels.append(label)"
   ]
  },
  {
   "cell_type": "code",
   "execution_count": 6,
   "metadata": {},
   "outputs": [
    {
     "data": {
      "text/plain": [
       "25000"
      ]
     },
     "execution_count": 6,
     "metadata": {},
     "output_type": "execute_result"
    }
   ],
   "source": [
    "len(labels)"
   ]
  },
  {
   "cell_type": "code",
   "execution_count": 7,
   "metadata": {
    "collapsed": true
   },
   "outputs": [],
   "source": [
    "## Splitting the training and validation dataset\n",
    "\n",
    "x_train, x_cv, y_train, y_cv = train_test_split(pd.DataFrame(image_paths), pd.DataFrame(labels),test_size = 0.2, random_state = 42)"
   ]
  },
  {
   "cell_type": "code",
   "execution_count": 8,
   "metadata": {
    "collapsed": true
   },
   "outputs": [],
   "source": [
    "## Paths for Training Images\n",
    "x_path = np.asarray(x_train[:8192]).reshape(8192,)\n",
    "y_path = np.asarray(y_train[:8192]).reshape(8192,1)"
   ]
  },
  {
   "cell_type": "code",
   "execution_count": 9,
   "metadata": {},
   "outputs": [
    {
     "name": "stdout",
     "output_type": "stream",
     "text": [
      "x_train = (8192,), y_train = (8192, 1)\n"
     ]
    }
   ],
   "source": [
    "print 'x_train = %s, y_train = %s' %(x_path.shape,y_path.shape)"
   ]
  },
  {
   "cell_type": "code",
   "execution_count": 10,
   "metadata": {
    "collapsed": true
   },
   "outputs": [],
   "source": [
    "## Paths for Validation Images\n",
    "x_cv = np.asarray(x_cv[:1000]).reshape(len(x_cv[:1000]),)\n",
    "y_cv = np.asarray(y_cv[:1000]).reshape(len(y_cv[:1000]),1)"
   ]
  },
  {
   "cell_type": "code",
   "execution_count": 11,
   "metadata": {},
   "outputs": [
    {
     "name": "stdout",
     "output_type": "stream",
     "text": [
      "x_cv = (1000,), y_cv = (1000, 1)\n"
     ]
    }
   ],
   "source": [
    "print 'x_cv = %s, y_cv = %s' %(x_cv.shape,y_cv.shape)"
   ]
  },
  {
   "cell_type": "markdown",
   "metadata": {},
   "source": [
    "#### Defining training and network parameters"
   ]
  },
  {
   "cell_type": "code",
   "execution_count": 12,
   "metadata": {
    "collapsed": true
   },
   "outputs": [],
   "source": [
    "## Training Parameters \n",
    "learning_rate = 0.0001\n",
    "num_epochs = 1\n",
    "w = 64      ## height and width of image\n",
    "l = 3       ## num of channels in input image\n",
    "batch_size = 64\n",
    "display_step = 10\n",
    "# epsilon = 10e-8\n",
    "\n",
    "## Network Parameters\n",
    "num_classes = 2     # Num of classes in data\n",
    "dropout = 0.40        # Dropout, probability to keep units\n",
    "\n",
    "## tf Graph input\n",
    "# X = tf.placeholder(tf.float32, shape = [None,w,w,l])\n",
    "# Y = tf.placeholder(tf.float32, [None, num_classes])\n",
    "# phase = tf.placeholder(tf.bool, name='phase')\n",
    "keep_prob = tf.placeholder(tf.float32) # dropout (keep probability)"
   ]
  },
  {
   "cell_type": "markdown",
   "metadata": {},
   "source": [
    "#### Defining augmentation and data parsing functions"
   ]
  },
  {
   "cell_type": "code",
   "execution_count": 13,
   "metadata": {
    "collapsed": true
   },
   "outputs": [],
   "source": [
    "def parse_data(image_paths, label):\n",
    "    image_content = tf.read_file(image_paths)\n",
    "    images = tf.image.decode_jpeg(image_content, channels=3)\n",
    "    return images, label\n",
    "\n",
    "def bright(image, label):\n",
    "    cond_brightness = tf.cast(tf.random_uniform([], maxval=2, dtype=tf.int32), tf.bool)\n",
    "    br_image = tf.cond(cond_brightness, lambda: tf.image.random_hue(image, 0.1), lambda: tf.identity(image))\n",
    "    return br_image, label\n",
    "\n",
    "def contrast(image, label):\n",
    "    cond_contrast = tf.cast(tf.random_uniform([], maxval=2, dtype=tf.int32), tf.bool)\n",
    "    con_image = tf.cond(cond_contrast, lambda: tf.image.random_contrast(image, 0.2, 1.8), lambda: tf.identity(image))\n",
    "    return con_image, label\n",
    "\n",
    "def flipping(image, label):\n",
    "    seed = random.random()\n",
    "    flip_image = tf.image.random_flip_left_right(image, seed=seed)\n",
    "    return flip_image, label\n",
    "\n",
    "def preprocess(image,label):\n",
    "    image = tf.cast(image, tf.float32)\n",
    "    image = image/255.0\n",
    "    image = tf.image.resize_images(image, [w, w])\n",
    "    return image,label"
   ]
  },
  {
   "cell_type": "markdown",
   "metadata": {},
   "source": [
    "#### Creating batch input data for training"
   ]
  },
  {
   "cell_type": "code",
   "execution_count": 14,
   "metadata": {
    "collapsed": true
   },
   "outputs": [],
   "source": [
    "def batch_input(x_path, y_path, Augment=False, num_threads=4):\n",
    "    \n",
    "    ## Creating a tensor of image paths\n",
    "    img_path_tensors = tf.constant(x_path)\n",
    "    label_tensors = tf.constant(y_path)\n",
    "    \n",
    "    ## Creating dataset out of the tensor file\n",
    "    path_data = tf.data.Dataset.from_tensor_slices((img_path_tensors,label_tensors))\n",
    "    \n",
    "    ## Parsing the dataset\n",
    "    data = path_data.map(parse_data, num_parallel_calls=num_threads)\n",
    "    \n",
    "    ## Normalizing and resizing the training data\n",
    "    data = data.map(preprocess, num_parallel_calls=num_threads)  \n",
    "    \n",
    "    ## If augmentation is to be applied\n",
    "    if Augment:\n",
    "        br_data = data.map(bright, num_parallel_calls=num_threads)      ## Brightness augmentation\n",
    "        \n",
    "        con_data = data.map(contrast, num_parallel_calls=num_threads)   ## Contrast augmentation\n",
    "        \n",
    "        flip_data = data.map(flipping, num_parallel_calls=num_threads)  ## Flip augmentation\n",
    "        \n",
    "        ## Concatenating the original and augmented data\n",
    "        train_data = data.concatenate(br_data)\n",
    "        train_data = train_data.concatenate(con_data)\n",
    "        train_data = train_data.concatenate(flip_data)\n",
    "    \n",
    "    else:\n",
    "        train_data = data\n",
    "    \n",
    "    train_data = train_data.shuffle(32768)\n",
    "    \n",
    "    X = train_data.batch(batch_size).prefetch(1)\n",
    "    \n",
    "    ## Create iterator\n",
    "    iterator = X.make_initializable_iterator()\n",
    "\n",
    "    ## Next element Op\n",
    "    x_batch, y_batch = iterator.get_next()\n",
    "\n",
    "    ## Data set init. op\n",
    "    init_op = iterator.make_initializer(X)\n",
    "\n",
    "    return x_batch, y_batch, init_op"
   ]
  },
  {
   "cell_type": "markdown",
   "metadata": {},
   "source": [
    "#### Defining the convolution network architecture "
   ]
  },
  {
   "cell_type": "code",
   "execution_count": 15,
   "metadata": {
    "collapsed": true
   },
   "outputs": [],
   "source": [
    "def conv_net(x_batch):\n",
    "    conv1 = tf.layers.conv2d(x_batch, 16, 3, padding = 'SAME', activation=tf.nn.relu)\n",
    "\n",
    "    conv2 = tf.layers.conv2d(conv1, 32, 3, padding = 'SAME', activation=tf.nn.relu)\n",
    "    conv2 = tf.layers.max_pooling2d(conv2, 2, 2)   ## Max-pool layer(2x2, s2)\n",
    "\n",
    "    ## Fully connected layers\n",
    "    ## Reshaping the output from 3D image shape to 1D vectors for fully connected layers\n",
    "    max_pool = tf.layers.flatten(conv2)\n",
    "    fc1 = tf.layers.dense(max_pool, 4096, activation=tf.nn.relu)\n",
    "    fc1 = tf.nn.dropout(fc1, dropout)         ## Applying Dropout(keep_prob = 0.4)\n",
    "\n",
    "    fc2 = tf.layers.dense(fc1, 512, activation=tf.nn.relu)\n",
    "    fc2 = tf.nn.dropout(fc2, dropout)         ## Applying Dropout(keep_prob = 0.4)\n",
    "\n",
    "    logits = tf.layers.dense(fc2, 2, activation=tf.nn.relu)\n",
    "\n",
    "    ## Obtaining predictions using softmax layer\n",
    "    prediction = tf.nn.softmax(logits)\n",
    "\n",
    "    return logits, prediction"
   ]
  },
  {
   "cell_type": "code",
   "execution_count": 16,
   "metadata": {},
   "outputs": [],
   "source": [
    "## Obtaining the batches for input \n",
    "x_batch, y_batch, init_op = batch_input(x_path, y_path, Augment=True, num_threads=4)\n",
    "\n",
    "## Forward propagation in conv_net to obtain logits and predictions\n",
    "logits, prediction = conv_net(x_batch)\n",
    "\n",
    "## Define loss and optimizer\n",
    "loss_op = tf.reduce_mean(tf.nn.softmax_cross_entropy_with_logits_v2(logits=logits, labels=y_batch))\n",
    "train_op = tf.train.AdamOptimizer(learning_rate=learning_rate).minimize(loss_op)\n",
    "\n",
    "## Evaluate model\n",
    "correct_pred = tf.equal(tf.argmax(prediction, 1), tf.argmax(y_batch, 1))\n",
    "accuracy = tf.reduce_mean(tf.cast(correct_pred, tf.float32))\n",
    "\n",
    "## Initialize the variables (i.e. assign their default value)\n",
    "init = tf.global_variables_initializer()\n",
    "\n",
    "tf.summary.scalar('accuracy',accuracy)\n",
    "tf.summary.scalar('loss',loss_op)\n",
    "merged = tf.summary.merge_all()\n",
    "    \n",
    "writer = tf.summary.FileWriter('/home/himanshu/cats_dogs/', tf.get_default_graph())"
   ]
  },
  {
   "cell_type": "code",
   "execution_count": 17,
   "metadata": {
    "collapsed": true
   },
   "outputs": [],
   "source": [
    "## Forward prop for validation dataset\n",
    "x_cv_batch, y_cv_batch, val_init_op = batch_input(x_cv, y_cv, Augment=False, num_threads=4)\n",
    "val_log, val_pred = conv_net(x_cv_batch)\n",
    "\n",
    "## Define loss and \n",
    "val_loss_op = tf.reduce_mean(tf.nn.softmax_cross_entropy_with_logits_v2(logits=val_log, labels=y_cv_batch))\n",
    "\n",
    "## Evaluate model\n",
    "correct_pred = tf.equal(tf.argmax(val_pred, 1), tf.argmax(y_cv_batch, 1))\n",
    "val_accuracy = tf.reduce_mean(tf.cast(correct_pred, tf.float32))\n",
    "\n",
    "## Initialize the variables (i.e. assign their default value)\n",
    "init = tf.global_variables_initializer()"
   ]
  },
  {
   "cell_type": "code",
   "execution_count": null,
   "metadata": {},
   "outputs": [],
   "source": [
    "\"\"\"\"tf.set_random_seed(42)\n",
    "## Initializing layer weights & biases\n",
    "weights = {\n",
    "    # 3x3 conv, 1 input, 64 outputs\n",
    "    'W1': tf.Variable(tf.random_normal([3, 3, 3, 64], mean=0, stddev=0.1), name='W1'),\n",
    "    # 3x3 conv, 64 inputs, 64 outputs\n",
    "    'W2': tf.Variable(tf.random_normal([3, 3, 64, 64], mean=0, stddev=0.1), name='W2'),\n",
    "    # fully connected, 32*32*64 inputs, 4096 outputs\n",
    "    'fw1': tf.Variable(tf.random_normal([32*32*64, 4096]),name='fw1'),\n",
    "    # fully connected, 4096 inputs, 1000 outputs\n",
    "    'fw2': tf.Variable(tf.random_normal([4096, 1000]),name='fw2'),\n",
    "    # 1000 inputs, 2 outputs (class prediction)\n",
    "    'out': tf.Variable(tf.random_normal([1000, num_classes]),name='out')\n",
    "}\n",
    "\n",
    "biases = {\n",
    "    'b1': tf.Variable(tf.random_normal([64]),name='b1'),\n",
    "    'b2': tf.Variable(tf.random_normal([64]),name='b2'),\n",
    "    'fb1': tf.Variable(tf.random_normal([4096]),name='fb1'),\n",
    "    'fb2': tf.Variable(tf.random_normal([1000]),name='fb2'),\n",
    "    'out': tf.Variable(tf.random_normal([num_classes]),name='out')\n",
    "}\"\"\"\"\n",
    "\n"
   ]
  },
  {
   "cell_type": "markdown",
   "metadata": {},
   "source": [
    "#### Main Initiation Function "
   ]
  },
  {
   "cell_type": "code",
   "execution_count": 18,
   "metadata": {},
   "outputs": [
    {
     "name": "stdout",
     "output_type": "stream",
     "text": [
      "Epoch 0, Step 1, Minibatch Loss= 0.7707, Training Accuracy= 0.484\n",
      "Epoch 0, Step 10, Minibatch Loss= 0.7673, Training Accuracy= 0.938\n",
      "Epoch 0, Step 20, Minibatch Loss= 0.7581, Training Accuracy= 1.000\n",
      "Epoch 0, Step 30, Minibatch Loss= 0.7365, Training Accuracy= 1.000\n",
      "Epoch 0, Step 40, Minibatch Loss= 0.7148, Training Accuracy= 1.000\n",
      "Epoch 0, Step 50, Minibatch Loss= 0.6498, Training Accuracy= 1.000\n",
      "Epoch 0, Step 60, Minibatch Loss= 0.6931, Training Accuracy= 1.000\n",
      "Epoch 0, Step 70, Minibatch Loss= 0.6282, Training Accuracy= 1.000\n",
      "Epoch 0, Step 80, Minibatch Loss= 0.8448, Training Accuracy= 1.000\n",
      "Epoch 0, Step 90, Minibatch Loss= 0.6498, Training Accuracy= 1.000\n",
      "Epoch 0, Step 100, Minibatch Loss= 0.7148, Training Accuracy= 1.000\n",
      "Epoch 0, Step 110, Minibatch Loss= 0.6282, Training Accuracy= 1.000\n",
      "Epoch 0, Step 120, Minibatch Loss= 0.7798, Training Accuracy= 1.000\n",
      "Epoch 0, Step 130, Minibatch Loss= 0.5415, Training Accuracy= 1.000\n",
      "Epoch 0, Step 140, Minibatch Loss= 0.6715, Training Accuracy= 1.000\n",
      "Epoch 0, Step 150, Minibatch Loss= 0.8015, Training Accuracy= 1.000\n",
      "Epoch 0, Step 160, Minibatch Loss= 0.5415, Training Accuracy= 1.000\n",
      "Epoch 0, Step 170, Minibatch Loss= 0.7148, Training Accuracy= 1.000\n",
      "Epoch 0, Step 180, Minibatch Loss= 0.7581, Training Accuracy= 1.000\n",
      "Epoch 0, Step 190, Minibatch Loss= 0.7798, Training Accuracy= 1.000\n",
      "Epoch 0, Step 200, Minibatch Loss= 0.4765, Training Accuracy= 1.000\n",
      "Epoch 0, Step 210, Minibatch Loss= 0.6065, Training Accuracy= 1.000\n",
      "Epoch 0, Step 220, Minibatch Loss= 0.6498, Training Accuracy= 1.000\n",
      "Epoch 0, Step 230, Minibatch Loss= 0.8015, Training Accuracy= 1.000\n",
      "Epoch 0, Step 240, Minibatch Loss= 0.6282, Training Accuracy= 1.000\n",
      "Epoch 0, Step 250, Minibatch Loss= 0.7148, Training Accuracy= 1.000\n",
      "Epoch 0, Step 260, Minibatch Loss= 0.7148, Training Accuracy= 1.000\n",
      "Epoch 0, Step 270, Minibatch Loss= 0.8015, Training Accuracy= 1.000\n",
      "Epoch 0, Step 280, Minibatch Loss= 0.7798, Training Accuracy= 1.000\n",
      "Epoch 0, Step 290, Minibatch Loss= 0.7365, Training Accuracy= 1.000\n",
      "Epoch 0, Step 300, Minibatch Loss= 0.6065, Training Accuracy= 1.000\n",
      "Epoch 0, Step 310, Minibatch Loss= 0.6931, Training Accuracy= 1.000\n",
      "Epoch 0, Step 320, Minibatch Loss= 0.7365, Training Accuracy= 0.984\n",
      "Epoch 0, Step 330, Minibatch Loss= 0.6931, Training Accuracy= 1.000\n",
      "Epoch 0, Step 340, Minibatch Loss= 0.6715, Training Accuracy= 1.000\n",
      "Epoch 0, Step 350, Minibatch Loss= 0.5632, Training Accuracy= 1.000\n",
      "Epoch 0, Step 360, Minibatch Loss= 0.7581, Training Accuracy= 1.000\n",
      "Epoch 0, Step 370, Minibatch Loss= 0.8231, Training Accuracy= 1.000\n",
      "Epoch 0, Step 380, Minibatch Loss= 0.6065, Training Accuracy= 1.000\n",
      "Epoch 0, Step 390, Minibatch Loss= 0.7148, Training Accuracy= 1.000\n",
      "Epoch 0, Step 400, Minibatch Loss= 0.5415, Training Accuracy= 1.000\n",
      "Epoch 0, Step 410, Minibatch Loss= 0.7798, Training Accuracy= 1.000\n",
      "Epoch 0, Step 420, Minibatch Loss= 0.8015, Training Accuracy= 1.000\n",
      "Epoch 0, Step 430, Minibatch Loss= 0.7148, Training Accuracy= 1.000\n",
      "Epoch 0, Step 440, Minibatch Loss= 0.5848, Training Accuracy= 1.000\n",
      "Epoch 0, Step 450, Minibatch Loss= 0.5848, Training Accuracy= 1.000\n",
      "Epoch 0, Step 460, Minibatch Loss= 0.6065, Training Accuracy= 1.000\n"
     ]
    },
    {
     "ename": "OutOfRangeError",
     "evalue": "End of sequence\n\t [[Node: IteratorGetNext = IteratorGetNext[output_shapes=[[?,64,64,3], [?,1]], output_types=[DT_FLOAT, DT_INT64], _device=\"/job:localhost/replica:0/task:0/device:CPU:0\"](Iterator)]]\n\nCaused by op u'IteratorGetNext', defined at:\n  File \"/home/himanshu/anaconda/lib/python2.7/runpy.py\", line 174, in _run_module_as_main\n    \"__main__\", fname, loader, pkg_name)\n  File \"/home/himanshu/anaconda/lib/python2.7/runpy.py\", line 72, in _run_code\n    exec code in run_globals\n  File \"/home/himanshu/anaconda/lib/python2.7/site-packages/ipykernel_launcher.py\", line 16, in <module>\n    app.launch_new_instance()\n  File \"/home/himanshu/anaconda/lib/python2.7/site-packages/traitlets/config/application.py\", line 658, in launch_instance\n    app.start()\n  File \"/home/himanshu/anaconda/lib/python2.7/site-packages/ipykernel/kernelapp.py\", line 477, in start\n    ioloop.IOLoop.instance().start()\n  File \"/home/himanshu/anaconda/lib/python2.7/site-packages/zmq/eventloop/ioloop.py\", line 177, in start\n    super(ZMQIOLoop, self).start()\n  File \"/home/himanshu/anaconda/lib/python2.7/site-packages/tornado/ioloop.py\", line 888, in start\n    handler_func(fd_obj, events)\n  File \"/home/himanshu/anaconda/lib/python2.7/site-packages/tornado/stack_context.py\", line 277, in null_wrapper\n    return fn(*args, **kwargs)\n  File \"/home/himanshu/anaconda/lib/python2.7/site-packages/zmq/eventloop/zmqstream.py\", line 440, in _handle_events\n    self._handle_recv()\n  File \"/home/himanshu/anaconda/lib/python2.7/site-packages/zmq/eventloop/zmqstream.py\", line 472, in _handle_recv\n    self._run_callback(callback, msg)\n  File \"/home/himanshu/anaconda/lib/python2.7/site-packages/zmq/eventloop/zmqstream.py\", line 414, in _run_callback\n    callback(*args, **kwargs)\n  File \"/home/himanshu/anaconda/lib/python2.7/site-packages/tornado/stack_context.py\", line 277, in null_wrapper\n    return fn(*args, **kwargs)\n  File \"/home/himanshu/anaconda/lib/python2.7/site-packages/ipykernel/kernelbase.py\", line 283, in dispatcher\n    return self.dispatch_shell(stream, msg)\n  File \"/home/himanshu/anaconda/lib/python2.7/site-packages/ipykernel/kernelbase.py\", line 235, in dispatch_shell\n    handler(stream, idents, msg)\n  File \"/home/himanshu/anaconda/lib/python2.7/site-packages/ipykernel/kernelbase.py\", line 399, in execute_request\n    user_expressions, allow_stdin)\n  File \"/home/himanshu/anaconda/lib/python2.7/site-packages/ipykernel/ipkernel.py\", line 196, in do_execute\n    res = shell.run_cell(code, store_history=store_history, silent=silent)\n  File \"/home/himanshu/anaconda/lib/python2.7/site-packages/ipykernel/zmqshell.py\", line 533, in run_cell\n    return super(ZMQInteractiveShell, self).run_cell(*args, **kwargs)\n  File \"/home/himanshu/anaconda/lib/python2.7/site-packages/IPython/core/interactiveshell.py\", line 2718, in run_cell\n    interactivity=interactivity, compiler=compiler, result=result)\n  File \"/home/himanshu/anaconda/lib/python2.7/site-packages/IPython/core/interactiveshell.py\", line 2822, in run_ast_nodes\n    if self.run_code(code, result):\n  File \"/home/himanshu/anaconda/lib/python2.7/site-packages/IPython/core/interactiveshell.py\", line 2882, in run_code\n    exec(code_obj, self.user_global_ns, self.user_ns)\n  File \"<ipython-input-16-793574b86471>\", line 2, in <module>\n    x_batch, y_batch, init_op = batch_input(x_path, y_path, Augment=True, num_threads=4)\n  File \"<ipython-input-14-35b9410f125c>\", line 40, in batch_input\n    x_batch, y_batch = iterator.get_next()\n  File \"/home/himanshu/anaconda/lib/python2.7/site-packages/tensorflow/python/data/ops/iterator_ops.py\", line 370, in get_next\n    name=name)), self._output_types,\n  File \"/home/himanshu/anaconda/lib/python2.7/site-packages/tensorflow/python/ops/gen_dataset_ops.py\", line 1466, in iterator_get_next\n    output_shapes=output_shapes, name=name)\n  File \"/home/himanshu/anaconda/lib/python2.7/site-packages/tensorflow/python/framework/op_def_library.py\", line 787, in _apply_op_helper\n    op_def=op_def)\n  File \"/home/himanshu/anaconda/lib/python2.7/site-packages/tensorflow/python/framework/ops.py\", line 3392, in create_op\n    op_def=op_def)\n  File \"/home/himanshu/anaconda/lib/python2.7/site-packages/tensorflow/python/framework/ops.py\", line 1718, in __init__\n    self._traceback = self._graph._extract_stack()  # pylint: disable=protected-access\n\nOutOfRangeError (see above for traceback): End of sequence\n\t [[Node: IteratorGetNext = IteratorGetNext[output_shapes=[[?,64,64,3], [?,1]], output_types=[DT_FLOAT, DT_INT64], _device=\"/job:localhost/replica:0/task:0/device:CPU:0\"](Iterator)]]\n",
     "output_type": "error",
     "traceback": [
      "\u001b[0;31m---------------------------------------------------------------------------\u001b[0m",
      "\u001b[0;31mOutOfRangeError\u001b[0m                           Traceback (most recent call last)",
      "\u001b[0;32m<ipython-input-18-cf31850c793b>\u001b[0m in \u001b[0;36m<module>\u001b[0;34m()\u001b[0m\n\u001b[1;32m     10\u001b[0m         \u001b[0;32mfor\u001b[0m \u001b[0mstep\u001b[0m \u001b[0;32min\u001b[0m \u001b[0mrange\u001b[0m\u001b[0;34m(\u001b[0m\u001b[0;36m1\u001b[0m\u001b[0;34m,\u001b[0m \u001b[0mint\u001b[0m\u001b[0;34m(\u001b[0m\u001b[0;34m(\u001b[0m\u001b[0;36m32768\u001b[0m\u001b[0;34m/\u001b[0m\u001b[0mbatch_size\u001b[0m\u001b[0;34m)\u001b[0m\u001b[0;34m+\u001b[0m\u001b[0;36m1\u001b[0m\u001b[0;34m)\u001b[0m\u001b[0;34m)\u001b[0m\u001b[0;34m:\u001b[0m\u001b[0;34m\u001b[0m\u001b[0m\n\u001b[1;32m     11\u001b[0m             \u001b[0;31m## Run optimization op (backprop)\u001b[0m\u001b[0;34m\u001b[0m\u001b[0;34m\u001b[0m\u001b[0m\n\u001b[0;32m---> 12\u001b[0;31m             \u001b[0msess\u001b[0m\u001b[0;34m.\u001b[0m\u001b[0mrun\u001b[0m\u001b[0;34m(\u001b[0m\u001b[0mtrain_op\u001b[0m\u001b[0;34m)\u001b[0m\u001b[0;34m\u001b[0m\u001b[0m\n\u001b[0m\u001b[1;32m     13\u001b[0m             \u001b[0;32mif\u001b[0m \u001b[0mstep\u001b[0m \u001b[0;34m%\u001b[0m \u001b[0mdisplay_step\u001b[0m \u001b[0;34m==\u001b[0m \u001b[0;36m0\u001b[0m \u001b[0;32mor\u001b[0m \u001b[0mstep\u001b[0m \u001b[0;34m==\u001b[0m \u001b[0;36m1\u001b[0m\u001b[0;34m:\u001b[0m\u001b[0;34m\u001b[0m\u001b[0m\n\u001b[1;32m     14\u001b[0m                 \u001b[0;31m## Calculate batch loss and accuracy\u001b[0m\u001b[0;34m\u001b[0m\u001b[0;34m\u001b[0m\u001b[0m\n",
      "\u001b[0;32m/home/himanshu/anaconda/lib/python2.7/site-packages/tensorflow/python/client/session.pyc\u001b[0m in \u001b[0;36mrun\u001b[0;34m(self, fetches, feed_dict, options, run_metadata)\u001b[0m\n\u001b[1;32m    898\u001b[0m     \u001b[0;32mtry\u001b[0m\u001b[0;34m:\u001b[0m\u001b[0;34m\u001b[0m\u001b[0m\n\u001b[1;32m    899\u001b[0m       result = self._run(None, fetches, feed_dict, options_ptr,\n\u001b[0;32m--> 900\u001b[0;31m                          run_metadata_ptr)\n\u001b[0m\u001b[1;32m    901\u001b[0m       \u001b[0;32mif\u001b[0m \u001b[0mrun_metadata\u001b[0m\u001b[0;34m:\u001b[0m\u001b[0;34m\u001b[0m\u001b[0m\n\u001b[1;32m    902\u001b[0m         \u001b[0mproto_data\u001b[0m \u001b[0;34m=\u001b[0m \u001b[0mtf_session\u001b[0m\u001b[0;34m.\u001b[0m\u001b[0mTF_GetBuffer\u001b[0m\u001b[0;34m(\u001b[0m\u001b[0mrun_metadata_ptr\u001b[0m\u001b[0;34m)\u001b[0m\u001b[0;34m\u001b[0m\u001b[0m\n",
      "\u001b[0;32m/home/himanshu/anaconda/lib/python2.7/site-packages/tensorflow/python/client/session.pyc\u001b[0m in \u001b[0;36m_run\u001b[0;34m(self, handle, fetches, feed_dict, options, run_metadata)\u001b[0m\n\u001b[1;32m   1133\u001b[0m     \u001b[0;32mif\u001b[0m \u001b[0mfinal_fetches\u001b[0m \u001b[0;32mor\u001b[0m \u001b[0mfinal_targets\u001b[0m \u001b[0;32mor\u001b[0m \u001b[0;34m(\u001b[0m\u001b[0mhandle\u001b[0m \u001b[0;32mand\u001b[0m \u001b[0mfeed_dict_tensor\u001b[0m\u001b[0;34m)\u001b[0m\u001b[0;34m:\u001b[0m\u001b[0;34m\u001b[0m\u001b[0m\n\u001b[1;32m   1134\u001b[0m       results = self._do_run(handle, final_targets, final_fetches,\n\u001b[0;32m-> 1135\u001b[0;31m                              feed_dict_tensor, options, run_metadata)\n\u001b[0m\u001b[1;32m   1136\u001b[0m     \u001b[0;32melse\u001b[0m\u001b[0;34m:\u001b[0m\u001b[0;34m\u001b[0m\u001b[0m\n\u001b[1;32m   1137\u001b[0m       \u001b[0mresults\u001b[0m \u001b[0;34m=\u001b[0m \u001b[0;34m[\u001b[0m\u001b[0;34m]\u001b[0m\u001b[0;34m\u001b[0m\u001b[0m\n",
      "\u001b[0;32m/home/himanshu/anaconda/lib/python2.7/site-packages/tensorflow/python/client/session.pyc\u001b[0m in \u001b[0;36m_do_run\u001b[0;34m(self, handle, target_list, fetch_list, feed_dict, options, run_metadata)\u001b[0m\n\u001b[1;32m   1314\u001b[0m     \u001b[0;32mif\u001b[0m \u001b[0mhandle\u001b[0m \u001b[0;32mis\u001b[0m \u001b[0mNone\u001b[0m\u001b[0;34m:\u001b[0m\u001b[0;34m\u001b[0m\u001b[0m\n\u001b[1;32m   1315\u001b[0m       return self._do_call(_run_fn, feeds, fetches, targets, options,\n\u001b[0;32m-> 1316\u001b[0;31m                            run_metadata)\n\u001b[0m\u001b[1;32m   1317\u001b[0m     \u001b[0;32melse\u001b[0m\u001b[0;34m:\u001b[0m\u001b[0;34m\u001b[0m\u001b[0m\n\u001b[1;32m   1318\u001b[0m       \u001b[0;32mreturn\u001b[0m \u001b[0mself\u001b[0m\u001b[0;34m.\u001b[0m\u001b[0m_do_call\u001b[0m\u001b[0;34m(\u001b[0m\u001b[0m_prun_fn\u001b[0m\u001b[0;34m,\u001b[0m \u001b[0mhandle\u001b[0m\u001b[0;34m,\u001b[0m \u001b[0mfeeds\u001b[0m\u001b[0;34m,\u001b[0m \u001b[0mfetches\u001b[0m\u001b[0;34m)\u001b[0m\u001b[0;34m\u001b[0m\u001b[0m\n",
      "\u001b[0;32m/home/himanshu/anaconda/lib/python2.7/site-packages/tensorflow/python/client/session.pyc\u001b[0m in \u001b[0;36m_do_call\u001b[0;34m(self, fn, *args)\u001b[0m\n\u001b[1;32m   1333\u001b[0m         \u001b[0;32mexcept\u001b[0m \u001b[0mKeyError\u001b[0m\u001b[0;34m:\u001b[0m\u001b[0;34m\u001b[0m\u001b[0m\n\u001b[1;32m   1334\u001b[0m           \u001b[0;32mpass\u001b[0m\u001b[0;34m\u001b[0m\u001b[0m\n\u001b[0;32m-> 1335\u001b[0;31m       \u001b[0;32mraise\u001b[0m \u001b[0mtype\u001b[0m\u001b[0;34m(\u001b[0m\u001b[0me\u001b[0m\u001b[0;34m)\u001b[0m\u001b[0;34m(\u001b[0m\u001b[0mnode_def\u001b[0m\u001b[0;34m,\u001b[0m \u001b[0mop\u001b[0m\u001b[0;34m,\u001b[0m \u001b[0mmessage\u001b[0m\u001b[0;34m)\u001b[0m\u001b[0;34m\u001b[0m\u001b[0m\n\u001b[0m\u001b[1;32m   1336\u001b[0m \u001b[0;34m\u001b[0m\u001b[0m\n\u001b[1;32m   1337\u001b[0m   \u001b[0;32mdef\u001b[0m \u001b[0m_extend_graph\u001b[0m\u001b[0;34m(\u001b[0m\u001b[0mself\u001b[0m\u001b[0;34m)\u001b[0m\u001b[0;34m:\u001b[0m\u001b[0;34m\u001b[0m\u001b[0m\n",
      "\u001b[0;31mOutOfRangeError\u001b[0m: End of sequence\n\t [[Node: IteratorGetNext = IteratorGetNext[output_shapes=[[?,64,64,3], [?,1]], output_types=[DT_FLOAT, DT_INT64], _device=\"/job:localhost/replica:0/task:0/device:CPU:0\"](Iterator)]]\n\nCaused by op u'IteratorGetNext', defined at:\n  File \"/home/himanshu/anaconda/lib/python2.7/runpy.py\", line 174, in _run_module_as_main\n    \"__main__\", fname, loader, pkg_name)\n  File \"/home/himanshu/anaconda/lib/python2.7/runpy.py\", line 72, in _run_code\n    exec code in run_globals\n  File \"/home/himanshu/anaconda/lib/python2.7/site-packages/ipykernel_launcher.py\", line 16, in <module>\n    app.launch_new_instance()\n  File \"/home/himanshu/anaconda/lib/python2.7/site-packages/traitlets/config/application.py\", line 658, in launch_instance\n    app.start()\n  File \"/home/himanshu/anaconda/lib/python2.7/site-packages/ipykernel/kernelapp.py\", line 477, in start\n    ioloop.IOLoop.instance().start()\n  File \"/home/himanshu/anaconda/lib/python2.7/site-packages/zmq/eventloop/ioloop.py\", line 177, in start\n    super(ZMQIOLoop, self).start()\n  File \"/home/himanshu/anaconda/lib/python2.7/site-packages/tornado/ioloop.py\", line 888, in start\n    handler_func(fd_obj, events)\n  File \"/home/himanshu/anaconda/lib/python2.7/site-packages/tornado/stack_context.py\", line 277, in null_wrapper\n    return fn(*args, **kwargs)\n  File \"/home/himanshu/anaconda/lib/python2.7/site-packages/zmq/eventloop/zmqstream.py\", line 440, in _handle_events\n    self._handle_recv()\n  File \"/home/himanshu/anaconda/lib/python2.7/site-packages/zmq/eventloop/zmqstream.py\", line 472, in _handle_recv\n    self._run_callback(callback, msg)\n  File \"/home/himanshu/anaconda/lib/python2.7/site-packages/zmq/eventloop/zmqstream.py\", line 414, in _run_callback\n    callback(*args, **kwargs)\n  File \"/home/himanshu/anaconda/lib/python2.7/site-packages/tornado/stack_context.py\", line 277, in null_wrapper\n    return fn(*args, **kwargs)\n  File \"/home/himanshu/anaconda/lib/python2.7/site-packages/ipykernel/kernelbase.py\", line 283, in dispatcher\n    return self.dispatch_shell(stream, msg)\n  File \"/home/himanshu/anaconda/lib/python2.7/site-packages/ipykernel/kernelbase.py\", line 235, in dispatch_shell\n    handler(stream, idents, msg)\n  File \"/home/himanshu/anaconda/lib/python2.7/site-packages/ipykernel/kernelbase.py\", line 399, in execute_request\n    user_expressions, allow_stdin)\n  File \"/home/himanshu/anaconda/lib/python2.7/site-packages/ipykernel/ipkernel.py\", line 196, in do_execute\n    res = shell.run_cell(code, store_history=store_history, silent=silent)\n  File \"/home/himanshu/anaconda/lib/python2.7/site-packages/ipykernel/zmqshell.py\", line 533, in run_cell\n    return super(ZMQInteractiveShell, self).run_cell(*args, **kwargs)\n  File \"/home/himanshu/anaconda/lib/python2.7/site-packages/IPython/core/interactiveshell.py\", line 2718, in run_cell\n    interactivity=interactivity, compiler=compiler, result=result)\n  File \"/home/himanshu/anaconda/lib/python2.7/site-packages/IPython/core/interactiveshell.py\", line 2822, in run_ast_nodes\n    if self.run_code(code, result):\n  File \"/home/himanshu/anaconda/lib/python2.7/site-packages/IPython/core/interactiveshell.py\", line 2882, in run_code\n    exec(code_obj, self.user_global_ns, self.user_ns)\n  File \"<ipython-input-16-793574b86471>\", line 2, in <module>\n    x_batch, y_batch, init_op = batch_input(x_path, y_path, Augment=True, num_threads=4)\n  File \"<ipython-input-14-35b9410f125c>\", line 40, in batch_input\n    x_batch, y_batch = iterator.get_next()\n  File \"/home/himanshu/anaconda/lib/python2.7/site-packages/tensorflow/python/data/ops/iterator_ops.py\", line 370, in get_next\n    name=name)), self._output_types,\n  File \"/home/himanshu/anaconda/lib/python2.7/site-packages/tensorflow/python/ops/gen_dataset_ops.py\", line 1466, in iterator_get_next\n    output_shapes=output_shapes, name=name)\n  File \"/home/himanshu/anaconda/lib/python2.7/site-packages/tensorflow/python/framework/op_def_library.py\", line 787, in _apply_op_helper\n    op_def=op_def)\n  File \"/home/himanshu/anaconda/lib/python2.7/site-packages/tensorflow/python/framework/ops.py\", line 3392, in create_op\n    op_def=op_def)\n  File \"/home/himanshu/anaconda/lib/python2.7/site-packages/tensorflow/python/framework/ops.py\", line 1718, in __init__\n    self._traceback = self._graph._extract_stack()  # pylint: disable=protected-access\n\nOutOfRangeError (see above for traceback): End of sequence\n\t [[Node: IteratorGetNext = IteratorGetNext[output_shapes=[[?,64,64,3], [?,1]], output_types=[DT_FLOAT, DT_INT64], _device=\"/job:localhost/replica:0/task:0/device:CPU:0\"](Iterator)]]\n"
     ]
    }
   ],
   "source": [
    "## Start training\n",
    "with tf.Session() as sess:\n",
    "\n",
    " \n",
    "    ## Run the initializer\n",
    "    sess.run(init_op)\n",
    "    sess.run(init)\n",
    "    \n",
    "    for epoch in range(num_epochs):\n",
    "        for step in range(1, int((32768/batch_size)+1)):\n",
    "            ## Run optimization op (backprop)\n",
    "            sess.run(train_op)\n",
    "            if step % display_step == 0 or step == 1:\n",
    "                ## Calculate batch loss and accuracy\n",
    "                loss, acc,summary = sess.run([loss_op,accuracy,merged])\n",
    "                writer.add_summary(summary,step)\n",
    "                print(\"Epoch \" + str(epoch)+\", Step \" + str(step) + \", Minibatch Loss= \" + \\\n",
    "                      \"{:.4f}\".format(loss) + \", Training Accuracy= \" + \\\n",
    "                      \"{:.3f}\".format(acc))\n",
    "\n",
    "                ##saving checkpoints after every 10 iterations\n",
    "                save_path = tf.train.Saver().save(sess, '/home/himanshu/cats_dogs/chkpts.ckpt', global_step=step)\n",
    "    \n",
    "    sess.run(val_init_op)\n",
    "    t_acc=[]\n",
    "    t_loss=[]\n",
    "    for t_step in range(1, int((1000/batch_size)+1)):\n",
    "        ## Calculate val batch loss and accuracy\n",
    "        tmp_loss, tmp_acc = sess.run([val_loss_op,val_accuracy])\n",
    "        t_loss.append(tmp_loss)\n",
    "        t_acc.append(tmp_acc)\n",
    "    ## Calculate accuracy for 1000 validation images\n",
    "    print(\"Cross Val Accuracy \"+ \"{:.4f}\".format(sum(t_acc)/len(t_acc)) + \\\n",
    "          \", Cross Val loss \"+ \"{:.4f}\".format(sum(t_loss)/len(t_loss)))\n",
    "\n",
    "writer.close()"
   ]
  },
  {
   "cell_type": "code",
   "execution_count": null,
   "metadata": {
    "collapsed": true
   },
   "outputs": [],
   "source": []
  },
  {
   "cell_type": "code",
   "execution_count": null,
   "metadata": {
    "collapsed": true
   },
   "outputs": [],
   "source": []
  }
 ],
 "metadata": {
  "kernelspec": {
   "display_name": "Python 2",
   "language": "python",
   "name": "python2"
  },
  "language_info": {
   "codemirror_mode": {
    "name": "ipython",
    "version": 2
   },
   "file_extension": ".py",
   "mimetype": "text/x-python",
   "name": "python",
   "nbconvert_exporter": "python",
   "pygments_lexer": "ipython2",
   "version": "2.7.14"
  }
 },
 "nbformat": 4,
 "nbformat_minor": 2
}
