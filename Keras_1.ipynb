{
 "cells": [
  {
   "cell_type": "code",
   "execution_count": 1,
   "metadata": {},
   "outputs": [
    {
     "name": "stderr",
     "output_type": "stream",
     "text": [
      "Using TensorFlow backend.\n"
     ]
    }
   ],
   "source": [
    "import numpy as np\n",
    "import pandas as pd\n",
    "import os\n",
    "import glob\n",
    "from matplotlib import pyplot as plt\n",
    "import keras\n",
    "from shutil import copyfile\n",
    "from keras.preprocessing.image import ImageDataGenerator, array_to_img, img_to_array, load_img\n",
    "from keras.models import Sequential\n",
    "from keras.layers import Conv2D, MaxPooling2D\n",
    "from keras.layers import Activation, Dropout, Flatten, Dense\n",
    "from keras import backend as K"
   ]
  },
  {
   "cell_type": "code",
   "execution_count": 2,
   "metadata": {},
   "outputs": [],
   "source": [
    "os.makedirs('train_new/cats')\n",
    "os.makedirs('train_new/dogs')\n",
    "os.makedirs('validation_new/cats')\n",
    "os.makedirs('validation_new/dogs')"
   ]
  },
  {
   "cell_type": "code",
   "execution_count": 3,
   "metadata": {},
   "outputs": [],
   "source": [
    "dogs = [filename for filename in os.listdir('train1') if filename.startswith(\"dog\")]"
   ]
  },
  {
   "cell_type": "code",
   "execution_count": 4,
   "metadata": {},
   "outputs": [],
   "source": [
    "cats = [filename for filename in os.listdir('train1') if filename.startswith(\"cat\")]"
   ]
  },
  {
   "cell_type": "code",
   "execution_count": 5,
   "metadata": {},
   "outputs": [],
   "source": [
    "for i in range(1000):\n",
    "    copyfile('train1/' + dogs[i], 'train_new/dogs/' + dogs[i])"
   ]
  },
  {
   "cell_type": "code",
   "execution_count": 6,
   "metadata": {},
   "outputs": [],
   "source": [
    "for i in range(1000):\n",
    "    copyfile('train1/' + cats[i], 'train_new/cats/' + cats[i])"
   ]
  },
  {
   "cell_type": "code",
   "execution_count": 7,
   "metadata": {},
   "outputs": [],
   "source": [
    "for i in range(1000, 1400):\n",
    "    copyfile('train1/' + dogs[i], 'validation_new/dogs/' + dogs[i])"
   ]
  },
  {
   "cell_type": "code",
   "execution_count": 8,
   "metadata": {},
   "outputs": [],
   "source": [
    "for i in range(1000, 1400):\n",
    "    copyfile('train1/' + cats[i], 'validation_new/cats/' + cats[i])\n"
   ]
  },
  {
   "cell_type": "code",
   "execution_count": 9,
   "metadata": {},
   "outputs": [
    {
     "name": "stdout",
     "output_type": "stream",
     "text": [
      "Found 2000 images belonging to 2 classes.\n",
      "Found 800 images belonging to 2 classes.\n",
      "Epoch 1/50\n",
      "125/125 [==============================] - 88s 706ms/step - loss: 0.7137 - acc: 0.5040 - val_loss: 0.6806 - val_acc: 0.6038\n",
      "Epoch 2/50\n",
      "125/125 [==============================] - 86s 690ms/step - loss: 0.6871 - acc: 0.5680 - val_loss: 0.6386 - val_acc: 0.6112\n",
      "Epoch 3/50\n",
      "125/125 [==============================] - 86s 691ms/step - loss: 0.6556 - acc: 0.6350 - val_loss: 0.6092 - val_acc: 0.6675\n",
      "Epoch 4/50\n",
      "125/125 [==============================] - 88s 700ms/step - loss: 0.6393 - acc: 0.6530 - val_loss: 0.8316 - val_acc: 0.6012\n",
      "Epoch 5/50\n",
      "125/125 [==============================] - 89s 710ms/step - loss: 0.6092 - acc: 0.6785 - val_loss: 0.5998 - val_acc: 0.6750\n",
      "Epoch 6/50\n",
      "125/125 [==============================] - 91s 730ms/step - loss: 0.6020 - acc: 0.6995 - val_loss: 0.5917 - val_acc: 0.7025\n",
      "Epoch 7/50\n",
      "125/125 [==============================] - 89s 716ms/step - loss: 0.5880 - acc: 0.6930 - val_loss: 0.5852 - val_acc: 0.7087\n",
      "Epoch 8/50\n",
      "125/125 [==============================] - 87s 697ms/step - loss: 0.5770 - acc: 0.7175 - val_loss: 0.5508 - val_acc: 0.7288\n",
      "Epoch 9/50\n",
      "125/125 [==============================] - 89s 712ms/step - loss: 0.5752 - acc: 0.7060 - val_loss: 0.6400 - val_acc: 0.6975\n",
      "Epoch 10/50\n",
      "125/125 [==============================] - 89s 716ms/step - loss: 0.5560 - acc: 0.7235 - val_loss: 0.5427 - val_acc: 0.7462\n",
      "Epoch 11/50\n",
      "125/125 [==============================] - 86s 692ms/step - loss: 0.5566 - acc: 0.7250 - val_loss: 0.5411 - val_acc: 0.7588\n",
      "Epoch 12/50\n",
      "125/125 [==============================] - 86s 686ms/step - loss: 0.5300 - acc: 0.7515 - val_loss: 0.5680 - val_acc: 0.7250\n",
      "Epoch 13/50\n",
      "125/125 [==============================] - 88s 705ms/step - loss: 0.5261 - acc: 0.7440 - val_loss: 0.6009 - val_acc: 0.7000\n",
      "Epoch 14/50\n",
      "125/125 [==============================] - 88s 708ms/step - loss: 0.5260 - acc: 0.7570 - val_loss: 0.5563 - val_acc: 0.7500\n",
      "Epoch 15/50\n",
      "125/125 [==============================] - 87s 695ms/step - loss: 0.5145 - acc: 0.7590 - val_loss: 0.5209 - val_acc: 0.7438\n",
      "Epoch 16/50\n",
      "125/125 [==============================] - 90s 717ms/step - loss: 0.5000 - acc: 0.7520 - val_loss: 0.5152 - val_acc: 0.7500\n",
      "Epoch 17/50\n",
      "125/125 [==============================] - 90s 721ms/step - loss: 0.5063 - acc: 0.7615 - val_loss: 0.5636 - val_acc: 0.7550\n",
      "Epoch 18/50\n",
      "125/125 [==============================] - 86s 688ms/step - loss: 0.5296 - acc: 0.7545 - val_loss: 0.5109 - val_acc: 0.7638\n",
      "Epoch 19/50\n",
      "125/125 [==============================] - 86s 687ms/step - loss: 0.5047 - acc: 0.7580 - val_loss: 0.5167 - val_acc: 0.7500\n",
      "Epoch 20/50\n",
      "125/125 [==============================] - 88s 701ms/step - loss: 0.4990 - acc: 0.7755 - val_loss: 0.5523 - val_acc: 0.7262\n",
      "Epoch 21/50\n",
      "125/125 [==============================] - 87s 699ms/step - loss: 0.4996 - acc: 0.7755 - val_loss: 0.6054 - val_acc: 0.7500\n",
      "Epoch 22/50\n",
      "125/125 [==============================] - 86s 691ms/step - loss: 0.4943 - acc: 0.7760 - val_loss: 0.5090 - val_acc: 0.7712\n",
      "Epoch 23/50\n",
      "125/125 [==============================] - 89s 710ms/step - loss: 0.4909 - acc: 0.7780 - val_loss: 0.5819 - val_acc: 0.7812\n",
      "Epoch 24/50\n",
      "125/125 [==============================] - 88s 703ms/step - loss: 0.4814 - acc: 0.7855 - val_loss: 0.5818 - val_acc: 0.7550\n",
      "Epoch 25/50\n",
      "125/125 [==============================] - 86s 686ms/step - loss: 0.4758 - acc: 0.7810 - val_loss: 0.5804 - val_acc: 0.7438\n",
      "Epoch 26/50\n",
      "125/125 [==============================] - 86s 688ms/step - loss: 0.4742 - acc: 0.7810 - val_loss: 0.5633 - val_acc: 0.7712\n",
      "Epoch 27/50\n",
      "125/125 [==============================] - 85s 681ms/step - loss: 0.4834 - acc: 0.7750 - val_loss: 0.5344 - val_acc: 0.7950\n",
      "Epoch 28/50\n",
      "125/125 [==============================] - 88s 705ms/step - loss: 0.4794 - acc: 0.7850 - val_loss: 0.5455 - val_acc: 0.7525\n",
      "Epoch 29/50\n",
      "125/125 [==============================] - 86s 689ms/step - loss: 0.4766 - acc: 0.7875 - val_loss: 0.6921 - val_acc: 0.7438\n",
      "Epoch 30/50\n",
      "125/125 [==============================] - 94s 751ms/step - loss: 0.4602 - acc: 0.7940 - val_loss: 0.5794 - val_acc: 0.7612\n",
      "Epoch 31/50\n",
      "125/125 [==============================] - 86s 685ms/step - loss: 0.4510 - acc: 0.7960 - val_loss: 0.5022 - val_acc: 0.7738\n",
      "Epoch 32/50\n",
      "125/125 [==============================] - 87s 700ms/step - loss: 0.4519 - acc: 0.7960 - val_loss: 0.5216 - val_acc: 0.7925\n",
      "Epoch 33/50\n",
      "125/125 [==============================] - 86s 688ms/step - loss: 0.4623 - acc: 0.7835 - val_loss: 0.4976 - val_acc: 0.7812\n",
      "Epoch 34/50\n",
      "125/125 [==============================] - 88s 708ms/step - loss: 0.4547 - acc: 0.7945 - val_loss: 0.5678 - val_acc: 0.7575\n",
      "Epoch 35/50\n",
      "125/125 [==============================] - 87s 695ms/step - loss: 0.4308 - acc: 0.8090 - val_loss: 0.6867 - val_acc: 0.7788\n",
      "Epoch 36/50\n",
      "125/125 [==============================] - 87s 694ms/step - loss: 0.4612 - acc: 0.8030 - val_loss: 0.4813 - val_acc: 0.7638\n",
      "Epoch 37/50\n",
      "125/125 [==============================] - 86s 688ms/step - loss: 0.4320 - acc: 0.8065 - val_loss: 0.5048 - val_acc: 0.7725\n",
      "Epoch 38/50\n",
      "125/125 [==============================] - 87s 692ms/step - loss: 0.4336 - acc: 0.8045 - val_loss: 0.6678 - val_acc: 0.7163\n",
      "Epoch 39/50\n",
      "125/125 [==============================] - 86s 689ms/step - loss: 0.4376 - acc: 0.8015 - val_loss: 0.6728 - val_acc: 0.7662\n",
      "Epoch 40/50\n",
      "125/125 [==============================] - 87s 697ms/step - loss: 0.4411 - acc: 0.8115 - val_loss: 0.5561 - val_acc: 0.7738\n",
      "Epoch 41/50\n",
      "125/125 [==============================] - 83s 667ms/step - loss: 0.4159 - acc: 0.8145 - val_loss: 0.5265 - val_acc: 0.7700\n",
      "Epoch 42/50\n",
      "125/125 [==============================] - 86s 691ms/step - loss: 0.4350 - acc: 0.8130 - val_loss: 0.5563 - val_acc: 0.7500\n",
      "Epoch 43/50\n",
      "125/125 [==============================] - 87s 696ms/step - loss: 0.4520 - acc: 0.8065 - val_loss: 0.5178 - val_acc: 0.7800\n",
      "Epoch 44/50\n",
      "125/125 [==============================] - 86s 685ms/step - loss: 0.4630 - acc: 0.8115 - val_loss: 0.6652 - val_acc: 0.7650\n",
      "Epoch 45/50\n",
      "125/125 [==============================] - 87s 700ms/step - loss: 0.4165 - acc: 0.8220 - val_loss: 0.6024 - val_acc: 0.7700\n",
      "Epoch 46/50\n",
      "125/125 [==============================] - 86s 689ms/step - loss: 0.4480 - acc: 0.8020 - val_loss: 0.6249 - val_acc: 0.7812\n",
      "Epoch 47/50\n",
      "125/125 [==============================] - 86s 690ms/step - loss: 0.4240 - acc: 0.8105 - val_loss: 0.5789 - val_acc: 0.7600\n",
      "Epoch 48/50\n",
      "125/125 [==============================] - 87s 696ms/step - loss: 0.4285 - acc: 0.8225 - val_loss: 0.5707 - val_acc: 0.7762\n",
      "Epoch 49/50\n",
      "125/125 [==============================] - 87s 696ms/step - loss: 0.4449 - acc: 0.8125 - val_loss: 0.5336 - val_acc: 0.7525\n",
      "Epoch 50/50\n",
      "125/125 [==============================] - 89s 715ms/step - loss: 0.4173 - acc: 0.8215 - val_loss: 0.6503 - val_acc: 0.7588\n"
     ]
    }
   ],
   "source": [
    "# dimensions of our images.\n",
    "img_width, img_height = 150, 150\n",
    "\n",
    "train_data_dir = 'train_new'\n",
    "validation_data_dir = 'validation_new'\n",
    "nb_train_samples = 2000\n",
    "nb_validation_samples = 800\n",
    "epochs = 50\n",
    "batch_size = 16\n",
    "\n",
    "if K.image_data_format() == 'channels_first':\n",
    "    input_shape = (3, img_width, img_height)\n",
    "else:\n",
    "    input_shape = (img_width, img_height, 3)\n",
    "\n",
    "model = Sequential()\n",
    "model.add(Conv2D(32, (3, 3), input_shape=input_shape))\n",
    "model.add(Activation('relu'))\n",
    "model.add(MaxPooling2D(pool_size=(2, 2)))\n",
    "\n",
    "model.add(Conv2D(32, (3, 3)))\n",
    "model.add(Activation('relu'))\n",
    "model.add(MaxPooling2D(pool_size=(2, 2)))\n",
    "\n",
    "model.add(Conv2D(64, (3, 3)))\n",
    "model.add(Activation('relu'))\n",
    "model.add(MaxPooling2D(pool_size=(2, 2)))\n",
    "\n",
    "model.add(Flatten())\n",
    "model.add(Dense(64))\n",
    "model.add(Activation('relu'))\n",
    "model.add(Dropout(0.5))\n",
    "model.add(Dense(1))\n",
    "model.add(Activation('sigmoid'))\n",
    "\n",
    "model.compile(loss='binary_crossentropy',\n",
    "              optimizer='rmsprop',\n",
    "              metrics=['accuracy'])\n",
    "\n",
    "# this is the augmentation configuration we will use for training\n",
    "train_datagen = ImageDataGenerator(\n",
    "    rescale=1. / 255,\n",
    "    shear_range=0.2,\n",
    "    zoom_range=0.2,\n",
    "    horizontal_flip=True)\n",
    "\n",
    "# this is the augmentation configuration we will use for testing:\n",
    "# only rescaling\n",
    "test_datagen = ImageDataGenerator(rescale=1. / 255)\n",
    "\n",
    "train_generator = train_datagen.flow_from_directory(\n",
    "    train_data_dir,\n",
    "    target_size=(img_width, img_height),\n",
    "    batch_size=batch_size,\n",
    "    class_mode='binary')\n",
    "\n",
    "validation_generator = test_datagen.flow_from_directory(\n",
    "    validation_data_dir,\n",
    "    target_size=(img_width, img_height),\n",
    "    batch_size=batch_size,\n",
    "    class_mode='binary')\n",
    "\n",
    "model.fit_generator(\n",
    "    train_generator,\n",
    "    steps_per_epoch=nb_train_samples // batch_size,\n",
    "    epochs=epochs,\n",
    "    validation_data=validation_generator,\n",
    "    validation_steps=nb_validation_samples // batch_size)\n",
    "\n",
    "model.save_weights('first_try.h5')"
   ]
  },
  {
   "cell_type": "code",
   "execution_count": null,
   "metadata": {},
   "outputs": [],
   "source": []
  }
 ],
 "metadata": {
  "kernelspec": {
   "display_name": "Python 2",
   "language": "python",
   "name": "python2"
  },
  "language_info": {
   "codemirror_mode": {
    "name": "ipython",
    "version": 2
   },
   "file_extension": ".py",
   "mimetype": "text/x-python",
   "name": "python",
   "nbconvert_exporter": "python",
   "pygments_lexer": "ipython2",
   "version": "2.7.14"
  }
 },
 "nbformat": 4,
 "nbformat_minor": 2
}
